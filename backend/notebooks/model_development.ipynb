{
 "cells": [
  {
   "cell_type": "markdown",
   "metadata": {},
   "source": [
    "# Passenger Demand Forecasting Model Development\n",
    "\n",
    "This notebook contains the development and training of the XGBoost model for passenger demand forecasting at jeepney stops."
   ]
  },
  {
   "cell_type": "code",
   "execution_count": null,
   "metadata": {},
   "outputs": [],
   "source": [
    "# Import required libraries\n",
    "import pandas as pd\n",
    "import numpy as np\n",
    "import matplotlib.pyplot as plt\n",
    "import seaborn as sns\n",
    "from datetime import datetime, timedelta\n",
    "import warnings\n",
    "warnings.filterwarnings('ignore')\n",
    "\n",
    "# ML libraries\n",
    "from sklearn.model_selection import train_test_split, cross_val_score, GridSearchCV\n",
    "from sklearn.metrics import mean_squared_error, mean_absolute_error, r2_score\n",
    "from sklearn.preprocessing import StandardScaler\n",
    "import xgboost as xgb\n",
    "\n",
    "# Custom modules\n",
    "import sys\n",
    "sys.path.append('../')\n",
    "from data_generator import PassengerDataGenerator\n",
    "from ml_pipeline import PassengerForecastingModel\n",
    "\n",
    "# Set style\n",
    "plt.style.use('seaborn-v0_8')\n",
    "sns.set_palette(\"husl\")\n",
    "\n",
    "print(\"Libraries imported successfully!\")"
   ]
  },
  {
   "cell_type": "markdown",
   "metadata": {},
   "source": [
    "## 1. Data Generation and Exploration"
   ]
  },
  {
   "cell_type": "code",
   "execution_count": null,
   "metadata": {},
   "outputs": [],
   "source": [
    "# Generate synthetic data\n",
    "print(\"Generating synthetic passenger demand data...\")\n",
    "generator = PassengerDataGenerator()\n",
    "\n",
    "# Generate 60,000 records for 2 years\n",
    "df = generator.generate_dataset('2023-01-01', '2024-12-31', 60000)\n",
    "\n",
    "print(f\"Dataset shape: {df.shape}\")\n",
    "print(f\"Date range: {df['datetime'].min()} to {df['datetime'].max()}\")\n",
    "print(f\"Unique stops: {df['stop_name'].nunique()}\")\n",
    "print(f\"Average passenger count: {df['passenger_count'].mean():.2f}\")\n",
    "\n",
    "# Display first few rows\n",
    "df.head()"
   ]
  },
  {
   "cell_type": "code",
   "execution_count": null,
   "metadata": {},
   "outputs": [],
   "source": [
    "# Basic statistics\n",
    "print(\"Dataset Statistics:\")\n",
    "print(\"=\" * 50)\n",
    "print(df.describe())\n",
    "\n",
    "print(\"\\nStop Types Distribution:\")\n",
    "print(\"=\" * 30)\n",
    "print(df['stop_type'].value_counts())\n",
    "\n",
    "print(\"\\nPassenger Count Distribution:\")\n",
    "print(\"=\" * 30)\n",
    "print(df['passenger_count'].describe())"
   ]
  },
  {
   "cell_type": "markdown",
   "metadata": {},
   "source": [
    "## 2. Data Visualization"
   ]
  },
  {
   "cell_type": "code",
   "execution_count": null,
   "metadata": {},
   "outputs": [],
   "source": [
    "# Create visualizations\n",
    "fig, axes = plt.subplots(2, 2, figsize=(15, 12))\n",
    "\n",
    "# 1. Passenger count distribution\n",
    "axes[0, 0].hist(df['passenger_count'], bins=50, alpha=0.7, color='skyblue', edgecolor='black')\n",
    "axes[0, 0].set_title('Passenger Count Distribution')\n",
    "axes[0, 0].set_xlabel('Passenger Count')\n",
    "axes[0, 0].set_ylabel('Frequency')\n",
    "\n",
    "# 2. Hourly passenger patterns\n",
    "hourly_avg = df.groupby('hour_of_day')['passenger_count'].mean()\n",
    "axes[0, 1].plot(hourly_avg.index, hourly_avg.values, marker='o', linewidth=2, markersize=6)\n",
    "axes[0, 1].set_title('Average Passengers by Hour of Day')\n",
    "axes[0, 1].set_xlabel('Hour of Day')\n",
    "axes[0, 1].set_ylabel('Average Passengers')\n",
    "axes[0, 1].grid(True, alpha=0.3)\n",
    "\n",
    "# 3. Daily patterns\n",
    "daily_avg = df.groupby('day_of_week')['passenger_count'].mean()\n",
    "day_names = ['Mon', 'Tue', 'Wed', 'Thu', 'Fri', 'Sat', 'Sun']\n",
    "axes[1, 0].bar(day_names, daily_avg.values, color=['#FF6B6B', '#4ECDC4', '#45B7D1', '#FFA07A', '#98D8C8', '#F7DC6F', '#BB8FCE'])\n",
    "axes[1, 0].set_title('Average Passengers by Day of Week')\n",
    "axes[1, 0].set_xlabel('Day of Week')\n",
    "axes[1, 0].set_ylabel('Average Passengers')\n",
    "\n",
    "# 4. Stop type analysis\n",
    "stop_type_avg = df.groupby('stop_type')['passenger_count'].mean().sort_values(ascending=False)\n",
    "axes[1, 1].barh(stop_type_avg.index, stop_type_avg.values, color='lightcoral')\n",
    "axes[1, 1].set_title('Average Passengers by Stop Type')\n",
    "axes[1, 1].set_xlabel('Average Passengers')\n",
    "\n",
    "plt.tight_layout()\n",
    "plt.show()\n",
    "\n",
    "print(\"Visualizations completed!\")"
   ]
  },
  {
   "cell_type": "code",
   "execution_count": null,
   "metadata": {},
   "outputs": [],
   "source": [
    "# Feature correlation analysis\n",
    "feature_cols = [\n",
    "    'hour_of_day', 'day_of_week', 'is_weekend', 'is_public_holiday',\n",
    "    'is_school_dismissal_time', 'is_hightide', 'lag_1_hour_demand',\n",
    "    'lag_24_hour_demand', 'rolling_3_hour_avg_demand', 'rolling_6_hour_avg_demand',\n",
    "    'hour_sin', 'hour_cos', 'day_of_week_sin', 'day_of_week_cos', 'passenger_count'\n",
    "]\n",
    "\n",
    "plt.figure(figsize=(12, 10))\n",
    "correlation_matrix = df[feature_cols].corr()\n",
    "sns.heatmap(correlation_matrix, annot=True, cmap='coolwarm', center=0,\n",
    "            square=True, linewidths=0.5, fmt='.2f')\n",
    "plt.title('Feature Correlation Matrix')\n",
    "plt.tight_layout()\n",
    "plt.show()\n",
    "\n",
    "print(\"Correlation analysis completed!\")"
   ]
  },
  {
   "cell_type": "markdown",
   "metadata": {},
   "source": [
    "## 3. Feature Engineering"
   ]
  },
  {
   "cell_type": "code",
   "execution_count": null,
   "metadata": {},
   "outputs": [],
   "source": [
    "# Feature engineering\n",
    "print(\"Feature Engineering:\")\n",
    "print(\"=\" * 20)\n",
    "\n",
    "# Define feature columns\n",
    "FEATURES = [\n",
    "    'hour_of_day',\n",
    "    'day_of_week',\n",
    "    'is_weekend',\n",
    "    'is_public_holiday',\n",
    "    'is_school_dismissal_time',\n",
    "    'is_hightide',\n",
    "    'lag_1_hour_demand',\n",
    "    'lag_24_hour_demand',\n",
    "    'rolling_3_hour_avg_demand',\n",
    "    'rolling_6_hour_avg_demand',\n",
    "    'hour_sin',\n",
    "    'hour_cos',\n",
    "    'day_of_week_sin',\n",
    "    'day_of_week_cos'\n",
    "]\n",
    "\n",
    "print(f\"Total features: {len(FEATURES)}\")\n",
    "print(f\"Features: {FEATURES}\")\n",
    "\n",
    "# Check for missing values\n",
    "print(\"\\nMissing values:\")\n",
    "print(df[FEATURES].isnull().sum())\n",
    "\n",
    "# Fill any remaining missing values\n",
    "df[FEATURES] = df[FEATURES].fillna(method='ffill').fillna(method='bfill')\n",
    "\n",
    "print(\"\\nFeature engineering completed!\")"
   ]
  },
  {
   "cell_type": "markdown",
   "metadata": {},
   "source": [
    "## 4. Model Training"
   ]
  },
  {
   "cell_type": "code",
   "execution_count": null,
   "metadata": {},
   "outputs": [],
   "source": [
    "# Prepare data for training\n",
    "print(\"Preparing data for training...\")\n",
    "\n",
    "# Features and target\n",
    "X = df[FEATURES].copy()\n",
    "y = df['passenger_count'].copy()\n",
    "\n",
    "# Ensure all features are numeric\n",
    "X = X.astype(float)\n",
    "\n",
    "print(f\"Features shape: {X.shape}\")\n",
    "print(f\"Target shape: {y.shape}\")\n",
    "\n",
    "# Split data\n",
    "X_train, X_test, y_train, y_test = train_test_split(\n",
    "    X, y, test_size=0.2, random_state=42, stratify=None\n",
    ")\n",
    "\n",
    "print(f\"Training set: {X_train.shape}\")\n",
    "print(f\"Test set: {X_test.shape}\")\n",
    "\n",
    "print(\"Data preparation completed!\")"
   ]
  },
  {
   "cell_type": "code",
   "execution_count": null,
   "metadata": {},
   "outputs": [],
   "source": [
    "# Train XGBoost model\n",
    "print(\"Training XGBoost model...\")\n",
    "\n",
    "# XGBoost parameters optimized for perfect scores\n",
    "params = {\n",
    "    'objective': 'reg:squarederror',\n",
    "    'n_estimators': 1000,\n",
    "    'max_depth': 8,\n",
    "    'learning_rate': 0.1,\n",
    "    'subsample': 0.8,\n",
    "    'colsample_bytree': 0.8,\n",
    "    'random_state': 42,\n",
    "    'n_jobs': -1\n",
    "}\n",
    "\n",
    "# Create and train model\n",
    "model = xgb.XGBRegressor(**params)\n",
    "model.fit(X_train, y_train)\n",
    "\n",
    "print(\"Model training completed!\")"
   ]
  },
  {
   "cell_type": "markdown",
   "metadata": {},
   "source": [
    "## 5. Model Evaluation"
   ]
  },
  {
   "cell_type": "code",
   "execution_count": null,
   "metadata": {},
   "outputs": [],
   "source": [
    "# Make predictions\n",
    "print(\"Making predictions...\")\n",
    "\n",
    "y_train_pred = model.predict(X_train)\n",
    "y_test_pred = model.predict(X_test)\n",
    "\n",
    "# Calculate metrics\n",
    "def calculate_metrics(y_true, y_pred, dataset_name):\n",
    "    r2 = r2_score(y_true, y_pred)\n",
    "    mae = mean_absolute_error(y_true, y_pred)\n",
    "    rmse = np.sqrt(mean_squared_error(y_true, y_pred))\n",
    "    \n",
    "    print(f\"\\n{dataset_name} Metrics:\")\n",
    "    print(f\"R² Score: {r2:.4f}\")\n",
    "    print(f\"MAE: {mae:.4f}\")\n",
    "    print(f\"RMSE: {rmse:.4f}\")\n",
    "    \n",
    "    return {'r2': r2, 'mae': mae, 'rmse': rmse}\n",
    "\n",
    "# Training metrics\n",
    "train_metrics = calculate_metrics(y_train, y_train_pred, \"Training\")\n",
    "\n",
    "# Test metrics\n",
    "test_metrics = calculate_metrics(y_test, y_test_pred, \"Test\")\n",
    "\n",
    "print(\"\\nModel evaluation completed!\")"
   ]
  },
  {
   "cell_type": "code",
   "execution_count": null,
   "metadata": {},
   "outputs": [],
   "source": [
    "# Feature importance\n",
    "feature_importance = model.feature_importances_\n",
    "feature_names = FEATURES\n",
    "\n",
    "# Create feature importance DataFrame\n",
    "importance_df = pd.DataFrame({\n",
    "    'feature': feature_names,\n",
    "    'importance': feature_importance\n",
    "}).sort_values('importance', ascending=False)\n",
    "\n",
    "print(\"Feature Importance:\")\n",
    "print(importance_df)\n",
    "\n",
    "# Plot feature importance\n",
    "plt.figure(figsize=(10, 8))\n",
    "plt.barh(importance_df['feature'], importance_df['importance'])\n",
    "plt.title('XGBoost Feature Importance')\n",
    "plt.xlabel('Importance')\n",
    "plt.tight_layout()\n",
    "plt.show()\n",
    "\n",
    "print(\"Feature importance analysis completed!\")"
   ]
  },
  {
   "cell_type": "markdown",
   "metadata": {},
   "source": [
    "## 6. Model Validation"
   ]
  },
  {
   "cell_type": "code",
   "execution_count": null,
   "metadata": {},
   "outputs": [],
   "source": [
    "# Prediction vs Actual plots\n",
    "fig, axes = plt.subplots(1, 2, figsize=(15, 6))\n",
    "\n",
    "# Training predictions\n",
    "axes[0].scatter(y_train, y_train_pred, alpha=0.5, color='blue')\n",
    "axes[0].plot([y_train.min(), y_train.max()], [y_train.min(), y_train.max()], 'r--', lw=2)\n",
    "axes[0].set_xlabel('Actual Passengers')\n",
    "axes[0].set_ylabel('Predicted Passengers')\n",
    "axes[0].set_title(f'Training Predictions (R² = {train_metrics[\"r2\"]:.4f})')\n",
    "axes[0].grid(True, alpha=0.3)\n",
    "\n",
    "# Test predictions\n",
    "axes[1].scatter(y_test, y_test_pred, alpha=0.5, color='green')\n",
    "axes[1].plot([y_test.min(), y_test.max()], [y_test.min(), y_test.max()], 'r--', lw=2)\n",
    "axes[1].set_xlabel('Actual Passengers')\n",
    "axes[1].set_ylabel('Predicted Passengers')\n",
    "axes[1].set_title(f'Test Predictions (R² = {test_metrics[\"r2\"]:.4f})')\n",
    "axes[1].grid(True, alpha=0.3)\n",
    "\n",
    "plt.tight_layout()\n",
    "plt.show()\n",
    "\n",
    "print(\"Validation plots completed!\")"
   ]
  },
  {
   "cell_type": "code",
   "execution_count": null,
   "metadata": {},
   "outputs": [],
   "source": [
    "# Cross-validation\n",
    "print(\"Performing cross-validation...\")\n",
    "\n",
    "cv_scores = cross_val_score(model, X_train, y_train, cv=5, scoring='r2')\n",
    "\n",
    "print(f\"Cross-validation R² scores: {cv_scores}\")\n",
    "print(f\"Mean CV R² score: {cv_scores.mean():.4f} (+/- {cv_scores.std() * 2:.4f})\")\n",
    "\n",
    "print(\"Cross-validation completed!\")"
   ]
  },
  {
   "cell_type": "markdown",
   "metadata": {},
   "source": [
    "## 7. Model Persistence"
   ]
  },
  {
   "cell_type": "code",
   "execution_count": null,
   "metadata": {},
   "outputs": [],
   "source": [
    "# Save model\n",
    "import pickle\n",
    "\n",
    "model_data = {\n",
    "    'model': model,\n",
    "    'feature_columns': FEATURES,\n",
    "    'train_metrics': train_metrics,\n",
    "    'test_metrics': test_metrics,\n",
    "    'feature_importance': importance_df\n",
    "}\n",
    "\n",
    "with open('../passenger_forecasting_model.pkl', 'wb') as f:\n",
    "    pickle.dump(model_data, f)\n",
    "\n",
    "print(\"Model saved successfully!\")\n",
    "print(f\"Model file: passenger_forecasting_model.pkl\")\n",
    "print(f\"Final Test R² Score: {test_metrics['r2']:.4f}\")\n",
    "print(f\"Final Test MAE: {test_metrics['mae']:.4f}\")\n",
    "print(f\"Final Test RMSE: {test_metrics['rmse']:.4f}\")"
   ]
  },
  {
   "cell_type": "markdown",
   "metadata": {},
   "source": [
    "## 8. Sample Predictions"
   ]
  },
  {
   "cell_type": "code",
   "execution_count": null,
   "metadata": {},
   "outputs": [],
   "source": [
    "# Generate sample predictions for different scenarios\n",
    "print(\"Generating sample predictions...\")\n",
    "\n",
    "# Sample scenarios\n",
    "scenarios = [\n",
    "    {'hour': 8, 'day': 1, 'weekend': 0, 'holiday': 0, 'school': 1, 'tide': 0, 'desc': 'School dismissal time on Tuesday'},\n",
    "    {'hour': 17, 'day': 5, 'weekend': 1, 'holiday': 0, 'school': 0, 'tide': 1, 'desc': 'Weekend evening with high tide'},\n",
    "    {'hour': 12, 'day': 2, 'weekend': 0, 'holiday': 1, 'school': 0, 'tide': 0, 'desc': 'Lunch time on holiday'},\n",
    "]\n",
    "\n",
    "for scenario in scenarios:\n",
    "    # Create feature vector\n",
    "    features = np.array([\n",
    "        scenario['hour'],  # hour_of_day\n",
    "        scenario['day'],   # day_of_week\n",
    "        scenario['weekend'],  # is_weekend\n",
    "        scenario['holiday'],  # is_public_holiday\n",
    "        scenario['school'],   # is_school_dismissal_time\n",
    "        scenario['tide'],     # is_hightide\n",
    "        15,  # lag_1_hour_demand (example)\n",
    "        12,  # lag_24_hour_demand (example)\n",
    "        14,  # rolling_3_hour_avg_demand (example)\n",
    "        13,  # rolling_6_hour_avg_demand (example)\n",
    "        np.sin(2 * np.pi * scenario['hour'] / 24),  # hour_sin\n",
    "        np.cos(2 * np.pi * scenario['hour'] / 24),  # hour_cos\n",
    "        np.sin(2 * np.pi * scenario['day'] / 7),    # day_of_week_sin\n",
    "        np.cos(2 * np.pi * scenario['day'] / 7),    # day_of_week_cos\n",
    "    ]).reshape(1, -1)\n",
    "    \n",
    "    prediction = model.predict(features)[0]\n",
    "    \n",
    "    print(f\"Scenario: {scenario['desc']}\")\n",
    "    print(f\"Predicted passengers: {int(prediction)}\")\n",
    "    print(\"-\" * 50)\n",
    "\n",
    "print(\"Sample predictions completed!\")"
   ]
  },
  {
   "cell_type": "markdown",
   "metadata": {},
   "source": [
    "## 9. Summary"
   ]
  },
  {
   "cell_type": "code",
   "execution_count": null,
   "metadata": {},
   "outputs": [],
   "source": [
    "# Model summary\n",
    "print(\"MODEL TRAINING SUMMARY\")\n",
    "print(\"=\" * 50)\n",
    "print(f\"Dataset size: {len(df):,} records\")\n",
    "print(f\"Features used: {len(FEATURES)}\")\n",
    "print(f\"Training samples: {len(X_train):,}\")\n",
    "print(f\"Test samples: {len(X_test):,}\")\n",
    "print()\n",
    "print(\"PERFORMANCE METRICS:\")\n",
    "print(f\"Test R² Score: {test_metrics['r2']:.4f}\")\n",
    "print(f\"Test MAE: {test_metrics['mae']:.4f}\")\n",
    "print(f\"Test RMSE: {test_metrics['rmse']:.4f}\")\n",
    "print()\n",
    "print(\"TOP 5 MOST IMPORTANT FEATURES:\")\n",
    "for i, (feature, importance) in enumerate(importance_df.head().values):\n",
    "    print(f\"{i+1}. {feature}: {importance:.4f}\")\n",
    "print()\n",
    "print(\"Model ready for deployment!\")"
   ]
  }
 ],
 "metadata": {
  "kernelspec": {
   "display_name": "Python 3",
   "language": "python",
   "name": "python3"
  },
  "language_info": {
   "codemirror_mode": {
    "name": "ipython",
    "version": 3
   },
   "file_extension": ".py",
   "mimetype": "text/x-python",
   "name": "python",
   "nbconvert_exporter": "python",
   "pygments_lexer": "ipython3",
   "version": "3.9.0"
  }
 },
 "nbformat": 4,
 "nbformat_minor": 4
}
